{
 "nbformat": 4,
 "nbformat_minor": 2,
 "metadata": {
  "language_info": {
   "name": "python",
   "codemirror_mode": {
    "name": "ipython",
    "version": 3
   },
   "version": "3.7.9-final"
  },
  "orig_nbformat": 2,
  "file_extension": ".py",
  "mimetype": "text/x-python",
  "name": "python",
  "npconvert_exporter": "python",
  "pygments_lexer": "ipython3",
  "version": 3,
  "kernelspec": {
   "name": "python37964bitdb2a3ab022ea44409128bf3af9558dfe",
   "display_name": "Python 3.7.9 64-bit"
  }
 },
 "cells": [
  {
   "cell_type": "code",
   "execution_count": 62,
   "metadata": {},
   "outputs": [],
   "source": [
    "import dimod\n",
    "import numpy as np\n",
    "import pandas as pd\n",
    "import matplotlib\n",
    "import matplotlib.pyplot as plt\n",
    "\n",
    "from collections import Counter\n",
    "from dwave.system import LeapHybridDQMSampler\n",
    "from pyqubo import Binary, Array\n",
    "from sklearn.datasets import make_blobs"
   ]
  },
  {
   "cell_type": "code",
   "execution_count": 11,
   "metadata": {},
   "outputs": [],
   "source": [
    "N = 30\n",
    "K = 3"
   ]
  },
  {
   "cell_type": "code",
   "execution_count": 12,
   "metadata": {},
   "outputs": [],
   "source": [
    "def get_distance(i, j, df, num_colors):\n",
    "    x = df.iloc[i, :num_colors].to_numpy()\n",
    "    y = df.iloc[j, :num_colors].to_numpy()\n",
    "    return np.linalg.norm(x-y)"
   ]
  },
  {
   "cell_type": "code",
   "execution_count": 63,
   "metadata": {},
   "outputs": [],
   "source": [
    "# Make distance matrix\n",
    "dist_matrix = np.zeros((N, N))\n",
    "for i in range(N):\n",
    "    for j in range(N):\n",
    "        if i != j:\n",
    "            dist_matrix[i][j] = get_distance(i, j, df, num_colors=K)\n",
    "\n",
    "# Print dist matrix\n",
    "#np.array(dist_matrix)"
   ]
  },
  {
   "cell_type": "code",
   "execution_count": 15,
   "metadata": {},
   "outputs": [],
   "source": [
    "# generate k clusters, classical way\n",
    "centers = [[1, 1], [-1, -1], [1, -1]]\n",
    "sz_per_cluster = N//K\n",
    "ft_dim = 2\n",
    "stddev = 0.3\n",
    "output_name = \"tmp\"\n",
    "n_samples = len(centers) * sz_per_cluster\n",
    "x, labels= make_blobs(\n",
    "    n_samples=n_samples,\n",
    "    n_features=ft_dim,\n",
    "    centers=centers,\n",
    "    cluster_std=stddev\n",
    ")\n",
    "\n",
    "df = pd.DataFrame(x, columns=[f\"ft_{i}\" for i in range(ft_dim)])\n",
    "df['label']=labels\n",
    "# print(df)\n",
    "# print(df.iloc[2,:2].to_numpy())\n",
    "df.to_csv(output_name+\".csv\", index=False)\n",
    "\n",
    "plt.scatter(x[:,0], x[:,1], c=labels)\n",
    "plt.savefig(output_name+\".png\", dpi=300)"
   ]
  },
  {
   "cell_type": "code",
   "execution_count": 16,
   "metadata": {},
   "outputs": [],
   "source": [
    "# x_{i, j} = point i belongs to cluster j\n",
    "group_matrix = Array.create('x', shape=(N, K), vartype='BINARY')"
   ]
  },
  {
   "cell_type": "code",
   "execution_count": 23,
   "metadata": {},
   "outputs": [],
   "source": [
    "distinct_size_penalty = 1\n",
    "multiple_assignment_penalty = 10"
   ]
  },
  {
   "cell_type": "code",
   "execution_count": 24,
   "metadata": {},
   "outputs": [],
   "source": [
    "all_terms = []"
   ]
  },
  {
   "cell_type": "code",
   "execution_count": 25,
   "metadata": {},
   "outputs": [],
   "source": [
    "# Penalty for being assigned to multiple clusters\n",
    "for i in range(N):\n",
    "    single_asignment_constraint = (1 - sum(group_matrix[i,:]))**2\n",
    "    all_terms.append(\n",
    "        single_asignment_constraint * multiple_assignment_penalty\n",
    "    )"
   ]
  },
  {
   "cell_type": "code",
   "execution_count": 26,
   "metadata": {},
   "outputs": [],
   "source": [
    "# Penalty for exceding equal number of members per cluster\n",
    "for j in range(K):\n",
    "    target_size = N//K\n",
    "    cluster_member_constraint = (target_size - sum(group_matrix[:, j]))**2\n",
    "    all_terms.append(\n",
    "        multiple_assignment_penalty*cluster_member_constraint\n",
    "    )"
   ]
  },
  {
   "cell_type": "code",
   "execution_count": 27,
   "metadata": {},
   "outputs": [],
   "source": [
    "# Adding objective for distances. Must minimize distances in the same group\n",
    "for i in range(N):\n",
    "    for j in range(i+1, N):\n",
    "        same_group_combinations = group_matrix[i,:] * group_matrix[j,:]\n",
    "        all_terms.append(\n",
    "            dist_matrix[i,j] * sum(same_group_combinations)\n",
    "        )\n",
    ""
   ]
  },
  {
   "cell_type": "code",
   "execution_count": 32,
   "metadata": {},
   "outputs": [],
   "source": [
    "equation = sum(all_terms)\n",
    "Q = equation.compile().to_qubo()[0]"
   ]
  },
  {
   "cell_type": "code",
   "execution_count": 30,
   "metadata": {},
   "outputs": [],
   "source": [
    "sampler = LeapHybridSampler()"
   ]
  },
  {
   "cell_type": "code",
   "execution_count": 36,
   "metadata": {},
   "outputs": [
    {
     "output_type": "stream",
     "name": "stdout",
     "text": "Sample(sample={'x[0][0]': 1, 'x[0][1]': 0, 'x[0][2]': 0, 'x[10][0]': 1, 'x[10][1]': 0, 'x[10][2]': 0, 'x[11][0]': 0, 'x[11][1]': 1, 'x[11][2]': 0, 'x[12][0]': 0, 'x[12][1]': 0, 'x[12][2]': 1, 'x[13][0]': 1, 'x[13][1]': 0, 'x[13][2]': 0, 'x[14][0]': 0, 'x[14][1]': 0, 'x[14][2]': 1, 'x[15][0]': 1, 'x[15][1]': 0, 'x[15][2]': 0, 'x[16][0]': 0, 'x[16][1]': 0, 'x[16][2]': 1, 'x[17][0]': 1, 'x[17][1]': 0, 'x[17][2]': 0, 'x[18][0]': 1, 'x[18][1]': 0, 'x[18][2]': 0, 'x[19][0]': 0, 'x[19][1]': 1, 'x[19][2]': 0, 'x[1][0]': 0, 'x[1][1]': 1, 'x[1][2]': 0, 'x[20][0]': 0, 'x[20][1]': 0, 'x[20][2]': 1, 'x[21][0]': 0, 'x[21][1]': 1, 'x[21][2]': 0, 'x[22][0]': 1, 'x[22][1]': 0, 'x[22][2]': 0, 'x[23][0]': 0, 'x[23][1]': 1, 'x[23][2]': 0, 'x[24][0]': 1, 'x[24][1]': 0, 'x[24][2]': 0, 'x[25][0]': 0, 'x[25][1]': 0, 'x[25][2]': 1, 'x[26][0]': 0, 'x[26][1]': 0, 'x[26][2]': 1, 'x[27][0]': 0, 'x[27][1]': 1, 'x[27][2]': 0, 'x[28][0]': 0, 'x[28][1]': 1, 'x[28][2]': 0, 'x[29][0]': 0, 'x[29][1]': 0, 'x[29][2]': 1, 'x[2][0]': 0, 'x[2][1]': 1, 'x[2][2]': 0, 'x[3][0]': 0, 'x[3][1]': 0, 'x[3][2]': 1, 'x[4][0]': 1, 'x[4][1]': 0, 'x[4][2]': 0, 'x[5][0]': 1, 'x[5][1]': 0, 'x[5][2]': 0, 'x[6][0]': 0, 'x[6][1]': 1, 'x[6][2]': 0, 'x[7][0]': 0, 'x[7][1]': 0, 'x[7][2]': 1, 'x[8][0]': 0, 'x[8][1]': 1, 'x[8][2]': 0, 'x[9][0]': 0, 'x[9][1]': 0, 'x[9][2]': 1}, energy=-3218.040988922119)\n"
    }
   ],
   "source": [
    "answer = sampler.sample_qubo(Q)"
   ]
  },
  {
   "cell_type": "code",
   "execution_count": 43,
   "metadata": {},
   "outputs": [
    {
     "output_type": "stream",
     "name": "stdout",
     "text": "{'x[0][0]': 1, 'x[0][1]': 0, 'x[0][2]': 0, 'x[10][0]': 1, 'x[10][1]': 0, 'x[10][2]': 0, 'x[11][0]': 0, 'x[11][1]': 1, 'x[11][2]': 0, 'x[12][0]': 0, 'x[12][1]': 0, 'x[12][2]': 1, 'x[13][0]': 1, 'x[13][1]': 0, 'x[13][2]': 0, 'x[14][0]': 0, 'x[14][1]': 0, 'x[14][2]': 1, 'x[15][0]': 1, 'x[15][1]': 0, 'x[15][2]': 0, 'x[16][0]': 0, 'x[16][1]': 0, 'x[16][2]': 1, 'x[17][0]': 1, 'x[17][1]': 0, 'x[17][2]': 0, 'x[18][0]': 1, 'x[18][1]': 0, 'x[18][2]': 0, 'x[19][0]': 0, 'x[19][1]': 1, 'x[19][2]': 0, 'x[1][0]': 0, 'x[1][1]': 1, 'x[1][2]': 0, 'x[20][0]': 0, 'x[20][1]': 0, 'x[20][2]': 1, 'x[21][0]': 0, 'x[21][1]': 1, 'x[21][2]': 0, 'x[22][0]': 1, 'x[22][1]': 0, 'x[22][2]': 0, 'x[23][0]': 0, 'x[23][1]': 1, 'x[23][2]': 0, 'x[24][0]': 1, 'x[24][1]': 0, 'x[24][2]': 0, 'x[25][0]': 0, 'x[25][1]': 0, 'x[25][2]': 1, 'x[26][0]': 0, 'x[26][1]': 0, 'x[26][2]': 1, 'x[27][0]': 0, 'x[27][1]': 1, 'x[27][2]': 0, 'x[28][0]': 0, 'x[28][1]': 1, 'x[28][2]': 0, 'x[29][0]': 0, 'x[29][1]': 0, 'x[29][2]': 1, 'x[2][0]': 0, 'x[2][1]': 1, 'x[2][2]': 0, 'x[3][0]': 0, 'x[3][1]': 0, 'x[3][2]': 1, 'x[4][0]': 1, 'x[4][1]': 0, 'x[4][2]': 0, 'x[5][0]': 1, 'x[5][1]': 0, 'x[5][2]': 0, 'x[6][0]': 0, 'x[6][1]': 1, 'x[6][2]': 0, 'x[7][0]': 0, 'x[7][1]': 0, 'x[7][2]': 1, 'x[8][0]': 0, 'x[8][1]': 1, 'x[8][2]': 0, 'x[9][0]': 0, 'x[9][1]': 0, 'x[9][2]': 1}\n"
    }
   ],
   "source": [
    "best_answer = list(answer.data(['sample', 'energy']))[0].sample\n",
    "print(best_answer)"
   ]
  },
  {
   "cell_type": "code",
   "execution_count": 51,
   "metadata": {},
   "outputs": [
    {
     "output_type": "stream",
     "name": "stdout",
     "text": "[0, 1, 1, 2, 0, 0, 1, 2, 1, 2, 0, 1, 2, 0, 2, 0, 2, 0, 0, 1, 2, 1, 0, 1, 0, 2, 2, 1, 1, 2]\n"
    }
   ],
   "source": [
    "cluster_result = [\n",
    "    k for k, v in best_answer.items() if v == 1\n",
    "]\n",
    "\n",
    "processed = [0 for val in cluster_result]\n",
    "\n",
    "for val in cluster_result:\n",
    "    _, i, j = val.replace(\"[\", \" \").replace(\"]\", \" \").split()\n",
    "    \n",
    "    processed[int(i)] = int(j)\n",
    "\n",
    "print(processed)"
   ]
  },
  {
   "cell_type": "code",
   "execution_count": 53,
   "metadata": {},
   "outputs": [
    {
     "output_type": "execute_result",
     "data": {
      "text/plain": "1.0"
     },
     "metadata": {},
     "execution_count": 53
    }
   ],
   "source": [
    "sum(processed)/len(processed)"
   ]
  },
  {
   "cell_type": "code",
   "execution_count": 60,
   "metadata": {},
   "outputs": [
    {
     "output_type": "execute_result",
     "data": {
      "text/plain": "<matplotlib.collections.PathCollection at 0x7f46ac6ac210>"
     },
     "metadata": {},
     "execution_count": 60
    },
    {
     "output_type": "display_data",
     "data": {
      "text/plain": "<Figure size 432x288 with 1 Axes>",
      "image/svg+xml": "<?xml version=\"1.0\" encoding=\"utf-8\" standalone=\"no\"?>\n<!DOCTYPE svg PUBLIC \"-//W3C//DTD SVG 1.1//EN\"\n  \"http://www.w3.org/Graphics/SVG/1.1/DTD/svg11.dtd\">\n<!-- Created with matplotlib (https://matplotlib.org/) -->\n<svg height=\"248.518125pt\" version=\"1.1\" viewBox=\"0 0 380.482812 248.518125\" width=\"380.482812pt\" xmlns=\"http://www.w3.org/2000/svg\" xmlns:xlink=\"http://www.w3.org/1999/xlink\">\n <metadata>\n  <rdf:RDF xmlns:cc=\"http://creativecommons.org/ns#\" xmlns:dc=\"http://purl.org/dc/elements/1.1/\" xmlns:rdf=\"http://www.w3.org/1999/02/22-rdf-syntax-ns#\">\n   <cc:Work>\n    <dc:type rdf:resource=\"http://purl.org/dc/dcmitype/StillImage\"/>\n    <dc:date>2021-01-30T23:29:36.082039</dc:date>\n    <dc:format>image/svg+xml</dc:format>\n    <dc:creator>\n     <cc:Agent>\n      <dc:title>Matplotlib v3.3.3, https://matplotlib.org/</dc:title>\n     </cc:Agent>\n    </dc:creator>\n   </cc:Work>\n  </rdf:RDF>\n </metadata>\n <defs>\n  <style type=\"text/css\">*{stroke-linecap:butt;stroke-linejoin:round;}</style>\n </defs>\n <g id=\"figure_1\">\n  <g id=\"patch_1\">\n   <path d=\"M -0 248.518125 \nL 380.482812 248.518125 \nL 380.482812 0 \nL -0 0 \nz\n\" style=\"fill:none;\"/>\n  </g>\n  <g id=\"axes_1\">\n   <g id=\"patch_2\">\n    <path d=\"M 38.482813 224.64 \nL 373.282813 224.64 \nL 373.282813 7.2 \nL 38.482813 7.2 \nz\n\" style=\"fill:#ffffff;\"/>\n   </g>\n   <g id=\"PathCollection_1\">\n    <defs>\n     <path d=\"M 0 3 \nC 0.795609 3 1.55874 2.683901 2.12132 2.12132 \nC 2.683901 1.55874 3 0.795609 3 -0 \nC 3 -0.795609 2.683901 -1.55874 2.12132 -2.12132 \nC 1.55874 -2.683901 0.795609 -3 0 -3 \nC -0.795609 -3 -1.55874 -2.683901 -2.12132 -2.12132 \nC -2.683901 -1.55874 -3 -0.795609 -3 0 \nC -3 0.795609 -2.683901 1.55874 -2.12132 2.12132 \nC -1.55874 2.683901 -0.795609 3 0 3 \nz\n\" id=\"C0_0_8f361e7ef8\"/>\n    </defs>\n    <g clip-path=\"url(#p2a1505b7b8)\">\n     <use style=\"fill:#440154;stroke:#440154;\" x=\"302.000553\" xlink:href=\"#C0_0_8f361e7ef8\" y=\"70.541531\"/>\n    </g>\n    <g clip-path=\"url(#p2a1505b7b8)\">\n     <use style=\"fill:#21918c;stroke:#21918c;\" x=\"108.741385\" xlink:href=\"#C0_0_8f361e7ef8\" y=\"214.756364\"/>\n    </g>\n    <g clip-path=\"url(#p2a1505b7b8)\">\n     <use style=\"fill:#21918c;stroke:#21918c;\" x=\"74.754143\" xlink:href=\"#C0_0_8f361e7ef8\" y=\"189.540103\"/>\n    </g>\n    <g clip-path=\"url(#p2a1505b7b8)\">\n     <use style=\"fill:#fde725;stroke:#fde725;\" x=\"273.086967\" xlink:href=\"#C0_0_8f361e7ef8\" y=\"160.390857\"/>\n    </g>\n    <g clip-path=\"url(#p2a1505b7b8)\">\n     <use style=\"fill:#440154;stroke:#440154;\" x=\"319.937878\" xlink:href=\"#C0_0_8f361e7ef8\" y=\"35.532691\"/>\n    </g>\n    <g clip-path=\"url(#p2a1505b7b8)\">\n     <use style=\"fill:#440154;stroke:#440154;\" x=\"292.390592\" xlink:href=\"#C0_0_8f361e7ef8\" y=\"56.85777\"/>\n    </g>\n    <g clip-path=\"url(#p2a1505b7b8)\">\n     <use style=\"fill:#21918c;stroke:#21918c;\" x=\"69.013459\" xlink:href=\"#C0_0_8f361e7ef8\" y=\"142.924373\"/>\n    </g>\n    <g clip-path=\"url(#p2a1505b7b8)\">\n     <use style=\"fill:#fde725;stroke:#fde725;\" x=\"294.739814\" xlink:href=\"#C0_0_8f361e7ef8\" y=\"210.544873\"/>\n    </g>\n    <g clip-path=\"url(#p2a1505b7b8)\">\n     <use style=\"fill:#21918c;stroke:#21918c;\" x=\"53.700994\" xlink:href=\"#C0_0_8f361e7ef8\" y=\"137.435811\"/>\n    </g>\n    <g clip-path=\"url(#p2a1505b7b8)\">\n     <use style=\"fill:#fde725;stroke:#fde725;\" x=\"283.823203\" xlink:href=\"#C0_0_8f361e7ef8\" y=\"174.804038\"/>\n    </g>\n    <g clip-path=\"url(#p2a1505b7b8)\">\n     <use style=\"fill:#440154;stroke:#440154;\" x=\"280.952438\" xlink:href=\"#C0_0_8f361e7ef8\" y=\"63.73325\"/>\n    </g>\n    <g clip-path=\"url(#p2a1505b7b8)\">\n     <use style=\"fill:#21918c;stroke:#21918c;\" x=\"62.780439\" xlink:href=\"#C0_0_8f361e7ef8\" y=\"151.228737\"/>\n    </g>\n    <g clip-path=\"url(#p2a1505b7b8)\">\n     <use style=\"fill:#fde725;stroke:#fde725;\" x=\"265.904221\" xlink:href=\"#C0_0_8f361e7ef8\" y=\"169.449298\"/>\n    </g>\n    <g clip-path=\"url(#p2a1505b7b8)\">\n     <use style=\"fill:#440154;stroke:#440154;\" x=\"275.988597\" xlink:href=\"#C0_0_8f361e7ef8\" y=\"31.735995\"/>\n    </g>\n    <g clip-path=\"url(#p2a1505b7b8)\">\n     <use style=\"fill:#fde725;stroke:#fde725;\" x=\"318.392182\" xlink:href=\"#C0_0_8f361e7ef8\" y=\"203.541117\"/>\n    </g>\n    <g clip-path=\"url(#p2a1505b7b8)\">\n     <use style=\"fill:#440154;stroke:#440154;\" x=\"224.389167\" xlink:href=\"#C0_0_8f361e7ef8\" y=\"47.434354\"/>\n    </g>\n    <g clip-path=\"url(#p2a1505b7b8)\">\n     <use style=\"fill:#fde725;stroke:#fde725;\" x=\"358.064631\" xlink:href=\"#C0_0_8f361e7ef8\" y=\"175.938293\"/>\n    </g>\n    <g clip-path=\"url(#p2a1505b7b8)\">\n     <use style=\"fill:#440154;stroke:#440154;\" x=\"307.465509\" xlink:href=\"#C0_0_8f361e7ef8\" y=\"17.083636\"/>\n    </g>\n    <g clip-path=\"url(#p2a1505b7b8)\">\n     <use style=\"fill:#440154;stroke:#440154;\" x=\"283.200006\" xlink:href=\"#C0_0_8f361e7ef8\" y=\"50.303644\"/>\n    </g>\n    <g clip-path=\"url(#p2a1505b7b8)\">\n     <use style=\"fill:#21918c;stroke:#21918c;\" x=\"135.525845\" xlink:href=\"#C0_0_8f361e7ef8\" y=\"156.054616\"/>\n    </g>\n    <g clip-path=\"url(#p2a1505b7b8)\">\n     <use style=\"fill:#fde725;stroke:#fde725;\" x=\"266.30939\" xlink:href=\"#C0_0_8f361e7ef8\" y=\"166.921693\"/>\n    </g>\n    <g clip-path=\"url(#p2a1505b7b8)\">\n     <use style=\"fill:#21918c;stroke:#21918c;\" x=\"118.763894\" xlink:href=\"#C0_0_8f361e7ef8\" y=\"186.088167\"/>\n    </g>\n    <g clip-path=\"url(#p2a1505b7b8)\">\n     <use style=\"fill:#440154;stroke:#440154;\" x=\"331.884931\" xlink:href=\"#C0_0_8f361e7ef8\" y=\"34.773146\"/>\n    </g>\n    <g clip-path=\"url(#p2a1505b7b8)\">\n     <use style=\"fill:#21918c;stroke:#21918c;\" x=\"91.011435\" xlink:href=\"#C0_0_8f361e7ef8\" y=\"150.276709\"/>\n    </g>\n    <g clip-path=\"url(#p2a1505b7b8)\">\n     <use style=\"fill:#440154;stroke:#440154;\" x=\"336.025703\" xlink:href=\"#C0_0_8f361e7ef8\" y=\"44.15905\"/>\n    </g>\n    <g clip-path=\"url(#p2a1505b7b8)\">\n     <use style=\"fill:#fde725;stroke:#fde725;\" x=\"243.562042\" xlink:href=\"#C0_0_8f361e7ef8\" y=\"169.917889\"/>\n    </g>\n    <g clip-path=\"url(#p2a1505b7b8)\">\n     <use style=\"fill:#fde725;stroke:#fde725;\" x=\"335.207359\" xlink:href=\"#C0_0_8f361e7ef8\" y=\"190.869888\"/>\n    </g>\n    <g clip-path=\"url(#p2a1505b7b8)\">\n     <use style=\"fill:#21918c;stroke:#21918c;\" x=\"182.686831\" xlink:href=\"#C0_0_8f361e7ef8\" y=\"168.172353\"/>\n    </g>\n    <g clip-path=\"url(#p2a1505b7b8)\">\n     <use style=\"fill:#21918c;stroke:#21918c;\" x=\"65.80773\" xlink:href=\"#C0_0_8f361e7ef8\" y=\"139.348001\"/>\n    </g>\n    <g clip-path=\"url(#p2a1505b7b8)\">\n     <use style=\"fill:#fde725;stroke:#fde725;\" x=\"281.565126\" xlink:href=\"#C0_0_8f361e7ef8\" y=\"182.657481\"/>\n    </g>\n   </g>\n   <g id=\"matplotlib.axis_1\">\n    <g id=\"xtick_1\">\n     <g id=\"line2d_1\">\n      <defs>\n       <path d=\"M 0 0 \nL 0 3.5 \n\" id=\"m2db76c16e1\" style=\"stroke:#000000;stroke-width:0.8;\"/>\n      </defs>\n      <g>\n       <use style=\"stroke:#000000;stroke-width:0.8;\" x=\"52.30907\" xlink:href=\"#m2db76c16e1\" y=\"224.64\"/>\n      </g>\n     </g>\n     <g id=\"text_1\">\n      <!-- −1.5 -->\n      <g transform=\"translate(40.167664 239.238437)scale(0.1 -0.1)\">\n       <defs>\n        <path d=\"M 10.59375 35.5 \nL 73.1875 35.5 \nL 73.1875 27.203125 \nL 10.59375 27.203125 \nz\n\" id=\"DejaVuSans-8722\"/>\n        <path d=\"M 12.40625 8.296875 \nL 28.515625 8.296875 \nL 28.515625 63.921875 \nL 10.984375 60.40625 \nL 10.984375 69.390625 \nL 28.421875 72.90625 \nL 38.28125 72.90625 \nL 38.28125 8.296875 \nL 54.390625 8.296875 \nL 54.390625 0 \nL 12.40625 0 \nz\n\" id=\"DejaVuSans-49\"/>\n        <path d=\"M 10.6875 12.40625 \nL 21 12.40625 \nL 21 0 \nL 10.6875 0 \nz\n\" id=\"DejaVuSans-46\"/>\n        <path d=\"M 10.796875 72.90625 \nL 49.515625 72.90625 \nL 49.515625 64.59375 \nL 19.828125 64.59375 \nL 19.828125 46.734375 \nQ 21.96875 47.46875 24.109375 47.828125 \nQ 26.265625 48.1875 28.421875 48.1875 \nQ 40.625 48.1875 47.75 41.5 \nQ 54.890625 34.8125 54.890625 23.390625 \nQ 54.890625 11.625 47.5625 5.09375 \nQ 40.234375 -1.421875 26.90625 -1.421875 \nQ 22.3125 -1.421875 17.546875 -0.640625 \nQ 12.796875 0.140625 7.71875 1.703125 \nL 7.71875 11.625 \nQ 12.109375 9.234375 16.796875 8.0625 \nQ 21.484375 6.890625 26.703125 6.890625 \nQ 35.15625 6.890625 40.078125 11.328125 \nQ 45.015625 15.765625 45.015625 23.390625 \nQ 45.015625 31 40.078125 35.4375 \nQ 35.15625 39.890625 26.703125 39.890625 \nQ 22.75 39.890625 18.8125 39.015625 \nQ 14.890625 38.140625 10.796875 36.28125 \nz\n\" id=\"DejaVuSans-53\"/>\n       </defs>\n       <use xlink:href=\"#DejaVuSans-8722\"/>\n       <use x=\"83.789062\" xlink:href=\"#DejaVuSans-49\"/>\n       <use x=\"147.412109\" xlink:href=\"#DejaVuSans-46\"/>\n       <use x=\"179.199219\" xlink:href=\"#DejaVuSans-53\"/>\n      </g>\n     </g>\n    </g>\n    <g id=\"xtick_2\">\n     <g id=\"line2d_2\">\n      <g>\n       <use style=\"stroke:#000000;stroke-width:0.8;\" x=\"100.910231\" xlink:href=\"#m2db76c16e1\" y=\"224.64\"/>\n      </g>\n     </g>\n     <g id=\"text_2\">\n      <!-- −1.0 -->\n      <g transform=\"translate(88.768824 239.238437)scale(0.1 -0.1)\">\n       <defs>\n        <path d=\"M 31.78125 66.40625 \nQ 24.171875 66.40625 20.328125 58.90625 \nQ 16.5 51.421875 16.5 36.375 \nQ 16.5 21.390625 20.328125 13.890625 \nQ 24.171875 6.390625 31.78125 6.390625 \nQ 39.453125 6.390625 43.28125 13.890625 \nQ 47.125 21.390625 47.125 36.375 \nQ 47.125 51.421875 43.28125 58.90625 \nQ 39.453125 66.40625 31.78125 66.40625 \nz\nM 31.78125 74.21875 \nQ 44.046875 74.21875 50.515625 64.515625 \nQ 56.984375 54.828125 56.984375 36.375 \nQ 56.984375 17.96875 50.515625 8.265625 \nQ 44.046875 -1.421875 31.78125 -1.421875 \nQ 19.53125 -1.421875 13.0625 8.265625 \nQ 6.59375 17.96875 6.59375 36.375 \nQ 6.59375 54.828125 13.0625 64.515625 \nQ 19.53125 74.21875 31.78125 74.21875 \nz\n\" id=\"DejaVuSans-48\"/>\n       </defs>\n       <use xlink:href=\"#DejaVuSans-8722\"/>\n       <use x=\"83.789062\" xlink:href=\"#DejaVuSans-49\"/>\n       <use x=\"147.412109\" xlink:href=\"#DejaVuSans-46\"/>\n       <use x=\"179.199219\" xlink:href=\"#DejaVuSans-48\"/>\n      </g>\n     </g>\n    </g>\n    <g id=\"xtick_3\">\n     <g id=\"line2d_3\">\n      <g>\n       <use style=\"stroke:#000000;stroke-width:0.8;\" x=\"149.511391\" xlink:href=\"#m2db76c16e1\" y=\"224.64\"/>\n      </g>\n     </g>\n     <g id=\"text_3\">\n      <!-- −0.5 -->\n      <g transform=\"translate(137.369985 239.238437)scale(0.1 -0.1)\">\n       <use xlink:href=\"#DejaVuSans-8722\"/>\n       <use x=\"83.789062\" xlink:href=\"#DejaVuSans-48\"/>\n       <use x=\"147.412109\" xlink:href=\"#DejaVuSans-46\"/>\n       <use x=\"179.199219\" xlink:href=\"#DejaVuSans-53\"/>\n      </g>\n     </g>\n    </g>\n    <g id=\"xtick_4\">\n     <g id=\"line2d_4\">\n      <g>\n       <use style=\"stroke:#000000;stroke-width:0.8;\" x=\"198.112552\" xlink:href=\"#m2db76c16e1\" y=\"224.64\"/>\n      </g>\n     </g>\n     <g id=\"text_4\">\n      <!-- 0.0 -->\n      <g transform=\"translate(190.160989 239.238437)scale(0.1 -0.1)\">\n       <use xlink:href=\"#DejaVuSans-48\"/>\n       <use x=\"63.623047\" xlink:href=\"#DejaVuSans-46\"/>\n       <use x=\"95.410156\" xlink:href=\"#DejaVuSans-48\"/>\n      </g>\n     </g>\n    </g>\n    <g id=\"xtick_5\">\n     <g id=\"line2d_5\">\n      <g>\n       <use style=\"stroke:#000000;stroke-width:0.8;\" x=\"246.713713\" xlink:href=\"#m2db76c16e1\" y=\"224.64\"/>\n      </g>\n     </g>\n     <g id=\"text_5\">\n      <!-- 0.5 -->\n      <g transform=\"translate(238.76215 239.238437)scale(0.1 -0.1)\">\n       <use xlink:href=\"#DejaVuSans-48\"/>\n       <use x=\"63.623047\" xlink:href=\"#DejaVuSans-46\"/>\n       <use x=\"95.410156\" xlink:href=\"#DejaVuSans-53\"/>\n      </g>\n     </g>\n    </g>\n    <g id=\"xtick_6\">\n     <g id=\"line2d_6\">\n      <g>\n       <use style=\"stroke:#000000;stroke-width:0.8;\" x=\"295.314873\" xlink:href=\"#m2db76c16e1\" y=\"224.64\"/>\n      </g>\n     </g>\n     <g id=\"text_6\">\n      <!-- 1.0 -->\n      <g transform=\"translate(287.363311 239.238437)scale(0.1 -0.1)\">\n       <use xlink:href=\"#DejaVuSans-49\"/>\n       <use x=\"63.623047\" xlink:href=\"#DejaVuSans-46\"/>\n       <use x=\"95.410156\" xlink:href=\"#DejaVuSans-48\"/>\n      </g>\n     </g>\n    </g>\n    <g id=\"xtick_7\">\n     <g id=\"line2d_7\">\n      <g>\n       <use style=\"stroke:#000000;stroke-width:0.8;\" x=\"343.916034\" xlink:href=\"#m2db76c16e1\" y=\"224.64\"/>\n      </g>\n     </g>\n     <g id=\"text_7\">\n      <!-- 1.5 -->\n      <g transform=\"translate(335.964472 239.238437)scale(0.1 -0.1)\">\n       <use xlink:href=\"#DejaVuSans-49\"/>\n       <use x=\"63.623047\" xlink:href=\"#DejaVuSans-46\"/>\n       <use x=\"95.410156\" xlink:href=\"#DejaVuSans-53\"/>\n      </g>\n     </g>\n    </g>\n   </g>\n   <g id=\"matplotlib.axis_2\">\n    <g id=\"ytick_1\">\n     <g id=\"line2d_8\">\n      <defs>\n       <path d=\"M 0 0 \nL -3.5 0 \n\" id=\"m15ba4394a0\" style=\"stroke:#000000;stroke-width:0.8;\"/>\n      </defs>\n      <g>\n       <use style=\"stroke:#000000;stroke-width:0.8;\" x=\"38.482813\" xlink:href=\"#m15ba4394a0\" y=\"211.520337\"/>\n      </g>\n     </g>\n     <g id=\"text_8\">\n      <!-- −1.5 -->\n      <g transform=\"translate(7.2 215.319556)scale(0.1 -0.1)\">\n       <use xlink:href=\"#DejaVuSans-8722\"/>\n       <use x=\"83.789062\" xlink:href=\"#DejaVuSans-49\"/>\n       <use x=\"147.412109\" xlink:href=\"#DejaVuSans-46\"/>\n       <use x=\"179.199219\" xlink:href=\"#DejaVuSans-53\"/>\n      </g>\n     </g>\n    </g>\n    <g id=\"ytick_2\">\n     <g id=\"line2d_9\">\n      <g>\n       <use style=\"stroke:#000000;stroke-width:0.8;\" x=\"38.482813\" xlink:href=\"#m15ba4394a0\" y=\"179.321896\"/>\n      </g>\n     </g>\n     <g id=\"text_9\">\n      <!-- −1.0 -->\n      <g transform=\"translate(7.2 183.121114)scale(0.1 -0.1)\">\n       <use xlink:href=\"#DejaVuSans-8722\"/>\n       <use x=\"83.789062\" xlink:href=\"#DejaVuSans-49\"/>\n       <use x=\"147.412109\" xlink:href=\"#DejaVuSans-46\"/>\n       <use x=\"179.199219\" xlink:href=\"#DejaVuSans-48\"/>\n      </g>\n     </g>\n    </g>\n    <g id=\"ytick_3\">\n     <g id=\"line2d_10\">\n      <g>\n       <use style=\"stroke:#000000;stroke-width:0.8;\" x=\"38.482813\" xlink:href=\"#m15ba4394a0\" y=\"147.123455\"/>\n      </g>\n     </g>\n     <g id=\"text_10\">\n      <!-- −0.5 -->\n      <g transform=\"translate(7.2 150.922673)scale(0.1 -0.1)\">\n       <use xlink:href=\"#DejaVuSans-8722\"/>\n       <use x=\"83.789062\" xlink:href=\"#DejaVuSans-48\"/>\n       <use x=\"147.412109\" xlink:href=\"#DejaVuSans-46\"/>\n       <use x=\"179.199219\" xlink:href=\"#DejaVuSans-53\"/>\n      </g>\n     </g>\n    </g>\n    <g id=\"ytick_4\">\n     <g id=\"line2d_11\">\n      <g>\n       <use style=\"stroke:#000000;stroke-width:0.8;\" x=\"38.482813\" xlink:href=\"#m15ba4394a0\" y=\"114.925013\"/>\n      </g>\n     </g>\n     <g id=\"text_11\">\n      <!-- 0.0 -->\n      <g transform=\"translate(15.579688 118.724232)scale(0.1 -0.1)\">\n       <use xlink:href=\"#DejaVuSans-48\"/>\n       <use x=\"63.623047\" xlink:href=\"#DejaVuSans-46\"/>\n       <use x=\"95.410156\" xlink:href=\"#DejaVuSans-48\"/>\n      </g>\n     </g>\n    </g>\n    <g id=\"ytick_5\">\n     <g id=\"line2d_12\">\n      <g>\n       <use style=\"stroke:#000000;stroke-width:0.8;\" x=\"38.482813\" xlink:href=\"#m15ba4394a0\" y=\"82.726572\"/>\n      </g>\n     </g>\n     <g id=\"text_12\">\n      <!-- 0.5 -->\n      <g transform=\"translate(15.579688 86.525791)scale(0.1 -0.1)\">\n       <use xlink:href=\"#DejaVuSans-48\"/>\n       <use x=\"63.623047\" xlink:href=\"#DejaVuSans-46\"/>\n       <use x=\"95.410156\" xlink:href=\"#DejaVuSans-53\"/>\n      </g>\n     </g>\n    </g>\n    <g id=\"ytick_6\">\n     <g id=\"line2d_13\">\n      <g>\n       <use style=\"stroke:#000000;stroke-width:0.8;\" x=\"38.482813\" xlink:href=\"#m15ba4394a0\" y=\"50.528131\"/>\n      </g>\n     </g>\n     <g id=\"text_13\">\n      <!-- 1.0 -->\n      <g transform=\"translate(15.579688 54.32735)scale(0.1 -0.1)\">\n       <use xlink:href=\"#DejaVuSans-49\"/>\n       <use x=\"63.623047\" xlink:href=\"#DejaVuSans-46\"/>\n       <use x=\"95.410156\" xlink:href=\"#DejaVuSans-48\"/>\n      </g>\n     </g>\n    </g>\n    <g id=\"ytick_7\">\n     <g id=\"line2d_14\">\n      <g>\n       <use style=\"stroke:#000000;stroke-width:0.8;\" x=\"38.482813\" xlink:href=\"#m15ba4394a0\" y=\"18.32969\"/>\n      </g>\n     </g>\n     <g id=\"text_14\">\n      <!-- 1.5 -->\n      <g transform=\"translate(15.579688 22.128909)scale(0.1 -0.1)\">\n       <use xlink:href=\"#DejaVuSans-49\"/>\n       <use x=\"63.623047\" xlink:href=\"#DejaVuSans-46\"/>\n       <use x=\"95.410156\" xlink:href=\"#DejaVuSans-53\"/>\n      </g>\n     </g>\n    </g>\n   </g>\n   <g id=\"patch_3\">\n    <path d=\"M 38.482813 224.64 \nL 38.482813 7.2 \n\" style=\"fill:none;stroke:#000000;stroke-linecap:square;stroke-linejoin:miter;stroke-width:0.8;\"/>\n   </g>\n   <g id=\"patch_4\">\n    <path d=\"M 373.282813 224.64 \nL 373.282813 7.2 \n\" style=\"fill:none;stroke:#000000;stroke-linecap:square;stroke-linejoin:miter;stroke-width:0.8;\"/>\n   </g>\n   <g id=\"patch_5\">\n    <path d=\"M 38.482812 224.64 \nL 373.282812 224.64 \n\" style=\"fill:none;stroke:#000000;stroke-linecap:square;stroke-linejoin:miter;stroke-width:0.8;\"/>\n   </g>\n   <g id=\"patch_6\">\n    <path d=\"M 38.482812 7.2 \nL 373.282812 7.2 \n\" style=\"fill:none;stroke:#000000;stroke-linecap:square;stroke-linejoin:miter;stroke-width:0.8;\"/>\n   </g>\n  </g>\n </g>\n <defs>\n  <clipPath id=\"p2a1505b7b8\">\n   <rect height=\"217.44\" width=\"334.8\" x=\"38.482813\" y=\"7.2\"/>\n  </clipPath>\n </defs>\n</svg>\n",
      "image/png": "[encoded data removed]"
     },
     "metadata": {
      "needs_background": "light"
     }
    }
   ],
   "source": [
    "plt.scatter(x[:,0], x[:,1], c=processed)"
   ]
  },
  {
   "cell_type": "code",
   "execution_count": 61,
   "metadata": {},
   "outputs": [
    {
     "output_type": "execute_result",
     "data": {
      "text/plain": "Counter({0: 10, 1: 10, 2: 10})"
     },
     "metadata": {},
     "execution_count": 61
    }
   ],
   "source": [
    "Counter(processed)  # checking if the counts are the same"
   ]
  }
 ]
}
