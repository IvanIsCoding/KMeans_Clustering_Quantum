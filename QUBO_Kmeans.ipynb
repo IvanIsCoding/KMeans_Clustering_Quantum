{
 "nbformat": 4,
 "nbformat_minor": 2,
 "metadata": {
  "language_info": {
   "name": "python",
   "codemirror_mode": {
    "name": "ipython",
    "version": 3
   },
   "version": "3.7.9-final"
  },
  "orig_nbformat": 2,
  "file_extension": ".py",
  "mimetype": "text/x-python",
  "name": "python",
  "npconvert_exporter": "python",
  "pygments_lexer": "ipython3",
  "version": 3,
  "kernelspec": {
   "name": "python37964bitabe73484111c4d74ac7eafffb90b9633",
   "display_name": "Python 3.7.9 64-bit"
  }
 },
 "cells": [
  {
   "cell_type": "code",
   "execution_count": 9,
   "metadata": {},
   "outputs": [],
   "source": [
    "import numpy as np\n",
    "from pyqubo import Binary, Array"
   ]
  },
  {
   "cell_type": "code",
   "execution_count": 10,
   "metadata": {},
   "outputs": [],
   "source": [
    "N = 4\n",
    "K = 2"
   ]
  },
  {
   "cell_type": "code",
   "execution_count": 20,
   "metadata": {},
   "outputs": [
    {
     "output_type": "execute_result",
     "data": {
      "text/plain": "array([[0.        , 0.69094463, 0.89051795, 0.62171336],\n       [0.69094463, 0.        , 0.98001849, 0.4567722 ],\n       [0.89051795, 0.98001849, 0.        , 0.47575806],\n       [0.62171336, 0.4567722 , 0.47575806, 0.        ]])"
     },
     "metadata": {},
     "execution_count": 20
    }
   ],
   "source": [
    "# Generate randomized and valid distance matrix\n",
    "np.random.seed(\n",
    "    pow(hash(\"iQuHack 2021\"), 2, 2**32)\n",
    ")\n",
    "random_matrix = np.random.rand(N, N)\n",
    "symm_matrix = (random_matrix + random_matrix.T)/2\n",
    "np.fill_diagonal(symm_matrix, 0)\n",
    "dist_matrix = symm_matrix\n",
    "dist_matrix"
   ]
  },
  {
   "cell_type": "code",
   "execution_count": 42,
   "metadata": {},
   "outputs": [
    {
     "output_type": "execute_result",
     "data": {
      "text/plain": "Array([[Binary(x[0][0]), Binary(x[0][1])],\n       [Binary(x[1][0]), Binary(x[1][1])],\n       [Binary(x[2][0]), Binary(x[2][1])],\n       [Binary(x[3][0]), Binary(x[3][1])]])"
     },
     "metadata": {},
     "execution_count": 42
    }
   ],
   "source": [
    "# x_{i, j} = point i belongs to cluster j\n",
    "group_matrix = Array.create('x', shape=(N, K), vartype='BINARY')\n",
    "group_matrix"
   ]
  },
  {
   "cell_type": "code",
   "execution_count": 30,
   "metadata": {},
   "outputs": [],
   "source": [
    "distinct_size_penalty = 1\n",
    "multiple_assignment_penalty = 1000"
   ]
  },
  {
   "cell_type": "code",
   "execution_count": 31,
   "metadata": {},
   "outputs": [],
   "source": [
    "all_terms = []"
   ]
  },
  {
   "cell_type": "code",
   "execution_count": 40,
   "metadata": {},
   "outputs": [],
   "source": [
    "# Penalty for being assigned to multiple clusters\n",
    "for i in range(N):\n",
    "    single_asignment_constraint = (1 - sum(group_matrix[i,:]))**2\n",
    "    all_terms.append(\n",
    "        single_asignment_constraint * multiple_assignment_penalty\n",
    "    )"
   ]
  },
  {
   "cell_type": "code",
   "execution_count": 43,
   "metadata": {},
   "outputs": [],
   "source": [
    "# Penalty for exceding equal number of members per cluster\n",
    "for j in range(K):\n",
    "    target_size = N//K\n",
    "    cluster_member_constraint = (target_size - sum(group_matrix[:, j]))**2\n",
    "    all_terms.append(\n",
    "        multiple_assignment_penalty*cluster_member_constraint\n",
    "    )"
   ]
  },
  {
   "cell_type": "code",
   "execution_count": 51,
   "metadata": {},
   "outputs": [],
   "source": [
    "# Adding objective for distances. Must minimize distances in the same group\n",
    "for i in range(N):\n",
    "    for j in range(i+1, N):\n",
    "        same_group_combinations = group_matrix[i,:] * group_matrix[j,:]\n",
    "        all_terms.append(\n",
    "            dist_matrix[i,j] * sum(same_group_combinations)\n",
    "        )\n",
    ""
   ]
  },
  {
   "cell_type": "code",
   "execution_count": 52,
   "metadata": {},
   "outputs": [
    {
     "output_type": "execute_result",
     "data": {
      "text/plain": "({('x[1][0]', 'x[1][0]'): -4000.0,\n  ('x[2][1]', 'x[0][1]'): 2001.7810359060152,\n  ('x[1][0]', 'x[1][1]'): 2000.0,\n  ('x[3][0]', 'x[0][0]'): 2001.243426723804,\n  ('x[2][0]', 'x[0][0]'): 2001.7810359060152,\n  ('x[3][1]', 'x[1][1]'): 2000.9135444032406,\n  ('x[2][0]', 'x[2][1]'): 2000.0,\n  ('x[1][0]', 'x[0][0]'): 2001.3818892643808,\n  ('x[2][0]', 'x[3][0]'): 2000.951516113187,\n  ('x[2][0]', 'x[1][0]'): 2001.9600369896034,\n  ('x[3][0]', 'x[3][0]'): -4000.0,\n  ('x[0][0]', 'x[0][0]'): -4000.0,\n  ('x[2][1]', 'x[1][1]'): 2001.9600369896034,\n  ('x[3][0]', 'x[1][0]'): 2000.9135444032406,\n  ('x[3][0]', 'x[3][1]'): 2000.0,\n  ('x[1][1]', 'x[0][1]'): 2001.3818892643808,\n  ('x[3][1]', 'x[0][1]'): 2001.243426723804,\n  ('x[2][1]', 'x[3][1]'): 2000.951516113187,\n  ('x[0][0]', 'x[0][1]'): 2000.0,\n  ('x[1][1]', 'x[1][1]'): -4000.0,\n  ('x[3][1]', 'x[3][1]'): -4000.0,\n  ('x[2][0]', 'x[2][0]'): -4000.0,\n  ('x[2][1]', 'x[2][1]'): -4000.0,\n  ('x[0][1]', 'x[0][1]'): -4000.0},\n 12000.0)"
     },
     "metadata": {},
     "execution_count": 52
    }
   ],
   "source": [
    "equation = sum(all_terms)\n",
    "equation.compile().to_qubo()"
   ]
  },
  {
   "cell_type": "code",
   "execution_count": null,
   "metadata": {},
   "outputs": [],
   "source": []
  }
 ]
}
